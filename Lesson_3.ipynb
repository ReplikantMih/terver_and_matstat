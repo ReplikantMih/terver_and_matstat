{
 "cells": [
  {
   "cell_type": "code",
   "execution_count": 1,
   "metadata": {},
   "outputs": [],
   "source": [
    "import numpy as np\n",
    "import math\n",
    "from math import factorial"
   ]
  },
  {
   "cell_type": "code",
   "execution_count": 14,
   "metadata": {},
   "outputs": [],
   "source": [
    "# Вычисление кол-ва сочетаний m из n\n",
    "def c(m, n):\n",
    "    return factorial(n) / ( factorial(m) * factorial(n-m) )"
   ]
  },
  {
   "cell_type": "markdown",
   "metadata": {},
   "source": [
    "### Task_1:"
   ]
  },
  {
   "cell_type": "markdown",
   "metadata": {},
   "source": [
    "1.\tДаны значения зарплат из выборки выпускников: 100, 80, 75, 77, 89, 33, 45, 25, 65, 17, 30, 24, 57, 55, 70, 75, 65, 84, 90, 150. Посчитать (желательно без использования статистических методов наподобие std, var, mean) среднее арифметическое, среднее квадратичное отклонение, смещенную и несмещенную оценки дисперсий для данной выборки."
   ]
  },
  {
   "cell_type": "code",
   "execution_count": 4,
   "metadata": {},
   "outputs": [
    {
     "data": {
      "text/plain": [
       "(65.3, 65.3)"
      ]
     },
     "execution_count": 4,
     "metadata": {},
     "output_type": "execute_result"
    }
   ],
   "source": [
    "s = [100, 80, 75, 77, 89, 33, 45, 25, 65, 17, 30, 24, 57, 55, 70, 75, 65, 84, 90, 150]\n",
    "\n",
    "# Мат. ожидание.\n",
    "M = np.sum(s) / len(s)\n",
    "M, np.mean(s)"
   ]
  },
  {
   "cell_type": "code",
   "execution_count": 7,
   "metadata": {},
   "outputs": [
    {
     "data": {
      "text/plain": [
       "(30.823854398825596, 30.823854398825596)"
      ]
     },
     "execution_count": 7,
     "metadata": {},
     "output_type": "execute_result"
    }
   ],
   "source": [
    "# Среднее квадратичное отклонение.\n",
    "S = (np.sum([(i-M)**2 for i in s])/len(s))**(1/2)\n",
    "S, np.std(s)"
   ]
  },
  {
   "cell_type": "code",
   "execution_count": 8,
   "metadata": {},
   "outputs": [
    {
     "data": {
      "text/plain": [
       "(950.11, 950.11)"
      ]
     },
     "execution_count": 8,
     "metadata": {},
     "output_type": "execute_result"
    }
   ],
   "source": [
    "# Смещенная дисперсия.\n",
    "D = S**2\n",
    "D, np.var(s)"
   ]
  },
  {
   "cell_type": "code",
   "execution_count": 10,
   "metadata": {},
   "outputs": [
    {
     "data": {
      "text/plain": [
       "(1000.1157894736843, 1000.1157894736842)"
      ]
     },
     "execution_count": 10,
     "metadata": {},
     "output_type": "execute_result"
    }
   ],
   "source": [
    "# Немещенная дисперсия.\n",
    "D = ( (np.sum([(i-M)**2 for i in s])/ ( len(s) - 1))**(1/2) ) ** 2\n",
    "D, np.var(s, ddof=1)"
   ]
  },
  {
   "cell_type": "markdown",
   "metadata": {},
   "source": [
    "### Task_2:"
   ]
  },
  {
   "cell_type": "markdown",
   "metadata": {},
   "source": [
    "2.\tВ первом ящике находится 8 мячей, из которых 5 - белые. Во втором ящике - 12 мячей, из которых 5 белых. Из первого ящика вытаскивают случайным образом два мяча, из второго - 4. Какова вероятность того, что 3 мяча белые?"
   ]
  },
  {
   "cell_type": "code",
   "execution_count": 23,
   "metadata": {},
   "outputs": [
    {
     "data": {
      "text/plain": [
       "('Ответ:', 0.3712121212121212)"
      ]
     },
     "execution_count": 23,
     "metadata": {},
     "output_type": "execute_result"
    }
   ],
   "source": [
    "# Возможны варианты когда белый из первого и из второго ящика вытаскивают следующим образом:\n",
    "# (0,3), (1,2), (2,1).\n",
    "\n",
    "# (0,3)\n",
    "P0 = ( c(2,3) / c(2,8) ) * ( c(3,5) * 6 / c(4,11) )\n",
    "\n",
    "# (1,2)\n",
    "P1 = (5 * 3 / c(2,8) ) * ( c(2,5)*c(2,6) / c(4,11) )\n",
    "\n",
    "# (2,1)\n",
    "P2 = (c(2,5) / c(2,8)) * ( (5 * c(3,6)) / c(4,11) )\n",
    "\n",
    "P = P0 + P1 + P2\n",
    "'Ответ:', P"
   ]
  },
  {
   "cell_type": "markdown",
   "metadata": {},
   "source": [
    "### Task_3:"
   ]
  },
  {
   "cell_type": "markdown",
   "metadata": {},
   "source": [
    "3.\tНа соревновании по биатлону один из трех спортсменов стреляет и попадает в мишень. Вероятность попадания для первого спортсмена равна 0.9, для второго — 0.8, для третьего — 0.6. Найти вероятность того, что выстрел произведен: a). первым спортсменом б). вторым спортсменом в). третьим спортсменом."
   ]
  },
  {
   "cell_type": "code",
   "execution_count": 27,
   "metadata": {},
   "outputs": [
    {
     "data": {
      "text/plain": [
       "('Ответ: вероятности, что это был 1-й, 2-й и 3-й равны соответственно ',\n",
       " 0.391304347826087,\n",
       " 0.3478260869565218,\n",
       " 0.2608695652173913)"
      ]
     },
     "execution_count": 27,
     "metadata": {},
     "output_type": "execute_result"
    }
   ],
   "source": [
    "# Полная вероятность, предполагаем, что вероятности, что стреляет конкретный спортсмен (до того, как известно о попадании),\n",
    "# равны :\n",
    "Pf = 1/3 * 0.9 + 1/3 * 0.8 + 1/3 * 0.6\n",
    "\n",
    "P1 = 1/3 * 0.9 / Pf\n",
    "P2 = 1/3 * 0.8 / Pf\n",
    "P3 = 1/3 * 0.6 / Pf\n",
    "\n",
    "'Ответ: вероятности, что это был 1-й, 2-й и 3-й равны соответственно ', P1, P2, P3"
   ]
  },
  {
   "cell_type": "markdown",
   "metadata": {},
   "source": [
    "### Task_4"
   ]
  },
  {
   "cell_type": "markdown",
   "metadata": {},
   "source": [
    "4.\tВ университет на факультеты A и B поступило равное количество студентов, а на факультет C студентов поступило столько же, сколько на A и B вместе. Вероятность того, что студент факультета A сдаст первую сессию, равна 0.8. Для студента факультета B эта вероятность равна 0.7, а для студента факультета C - 0.9. Студент сдал первую сессию. Какова вероятность, что он учится: a). на факультете A б). на факультете B в). на факультете C?"
   ]
  },
  {
   "cell_type": "code",
   "execution_count": 30,
   "metadata": {},
   "outputs": [
    {
     "data": {
      "text/plain": [
       "('Ответ: вероятность, что сдавший студент с 1-го, 2-го и 3-го факультета равны соответственно:',\n",
       " 0.24242424242424246,\n",
       " 0.21212121212121213,\n",
       " 0.5454545454545455)"
      ]
     },
     "execution_count": 30,
     "metadata": {},
     "output_type": "execute_result"
    }
   ],
   "source": [
    "# Пусть на A учится n студентов, тогда на B учится n студентов, тогда на C учится 2n студентов.\n",
    "# Вероятность, что случайный студент учится на A = 0.25, на B = 0.25, на C = 0.5.\n",
    "\n",
    "# В данном случае речь об апотестириорной вероятности, применима формула Байеса.\n",
    "# Считаем полную вероятность:\n",
    "Pf = 0.8 * 0.25 + 0.7 * 0.25 + 0.9 * 0.5\n",
    "\n",
    "P1 = 0.8 * 0.25 / Pf\n",
    "P2 = 0.7 * 0.25 / Pf\n",
    "P3 = 0.9 * 0.5 / Pf\n",
    "\n",
    "'Ответ: вероятность, что сдавший студент с 1-го, 2-го и 3-го факультета равны соответственно:', P1, P2, P3"
   ]
  },
  {
   "cell_type": "markdown",
   "metadata": {},
   "source": [
    "### Task_5:"
   ]
  },
  {
   "cell_type": "markdown",
   "metadata": {},
   "source": [
    "5.\tУстройство состоит из трех деталей. Для первой детали вероятность выйти из строя в первый месяц равна 0.1, для второй - 0.2, для третьей - 0.25. Какова вероятность того, что в первый месяц выйдут из строя: а). все детали б). только две детали в). хотя бы одна деталь г). от одной до двух деталей?"
   ]
  },
  {
   "cell_type": "markdown",
   "metadata": {},
   "source": [
    "а) все детали"
   ]
  },
  {
   "cell_type": "code",
   "execution_count": 31,
   "metadata": {},
   "outputs": [
    {
     "data": {
      "text/plain": [
       "0.005000000000000001"
      ]
     },
     "execution_count": 31,
     "metadata": {},
     "output_type": "execute_result"
    }
   ],
   "source": [
    "# Одновременное наступление событий\n",
    "\n",
    "P = 0.1 * 0.2 * 0.25\n",
    "P"
   ]
  },
  {
   "cell_type": "markdown",
   "metadata": {},
   "source": [
    "б). только две детали"
   ]
  },
  {
   "cell_type": "code",
   "execution_count": 32,
   "metadata": {},
   "outputs": [
    {
     "data": {
      "text/plain": [
       "0.095"
      ]
     },
     "execution_count": 32,
     "metadata": {},
     "output_type": "execute_result"
    }
   ],
   "source": [
    "# Вероятность равна связанным через ИЛИ всем возможным парным сочетаниям, рассматрим явно все их:\n",
    "P = 0.1*0.2 + 0.1*0.25 + 0.2*0.25\n",
    "P"
   ]
  },
  {
   "cell_type": "markdown",
   "metadata": {},
   "source": [
    "в). хотя бы одна деталь"
   ]
  },
  {
   "cell_type": "code",
   "execution_count": 34,
   "metadata": {},
   "outputs": [
    {
     "data": {
      "text/plain": [
       "0.45999999999999996"
      ]
     },
     "execution_count": 34,
     "metadata": {},
     "output_type": "execute_result"
    }
   ],
   "source": [
    "# Это все вероятность что сломается 1 из 3, 2 из 3, 3 из 3, либо 1 минус вероятность, что не сломается ни одна.\n",
    "# Вероятность, что не сломатеся не одна - это одновременное наступление события \"Не сломалась\" для всех 3-х деталей,\n",
    "# где соответствующие вероятности события не сломалось можно взять как 1 минус вероятность того, что сломается.\n",
    "P = 1 - (0.9 * 0.8 * 0.75)\n",
    "P"
   ]
  },
  {
   "cell_type": "markdown",
   "metadata": {},
   "source": [
    "г). от одной до двух деталей?"
   ]
  },
  {
   "cell_type": "code",
   "execution_count": 35,
   "metadata": {},
   "outputs": [
    {
     "data": {
      "text/plain": [
       "0.645"
      ]
     },
     "execution_count": 35,
     "metadata": {},
     "output_type": "execute_result"
    }
   ],
   "source": [
    "# Вероятность, что сломатеся от 1 до 2-х деталей это вероятность, что сломается 1 или что сломатеся 2.\n",
    "# Вероятность, что сломатеся именно 2 посчитана в (б). Дополнително посчитаем вероятность, что сломается 1.\n",
    "\n",
    "P = 0.095 + (0.1 + 0.2 + 0.25)\n",
    "P"
   ]
  }
 ],
 "metadata": {
  "kernelspec": {
   "display_name": "Python 3",
   "language": "python",
   "name": "python3"
  },
  "language_info": {
   "codemirror_mode": {
    "name": "ipython",
    "version": 3
   },
   "file_extension": ".py",
   "mimetype": "text/x-python",
   "name": "python",
   "nbconvert_exporter": "python",
   "pygments_lexer": "ipython3",
   "version": "3.7.3"
  }
 },
 "nbformat": 4,
 "nbformat_minor": 2
}
