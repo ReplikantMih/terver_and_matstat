{
 "cells": [
  {
   "cell_type": "code",
   "execution_count": 1,
   "metadata": {},
   "outputs": [],
   "source": [
    "from math import factorial"
   ]
  },
  {
   "cell_type": "markdown",
   "metadata": {},
   "source": [
    "### Task_1:"
   ]
  },
  {
   "cell_type": "markdown",
   "metadata": {},
   "source": [
    "Из колоды в 52 карты извлекаются случайным образом 4 карты. a) Найти вероятность того, что все карты – крести. б) Найти вероятность, что среди 4-х карт окажется ХОТЯ бы один туз."
   ]
  },
  {
   "cell_type": "markdown",
   "metadata": {},
   "source": [
    "a)"
   ]
  },
  {
   "cell_type": "code",
   "execution_count": 7,
   "metadata": {},
   "outputs": [
    {
     "data": {
      "text/plain": [
       "(0.25, 0.23529411764705882, 0.22, 0.20408163265306123)"
      ]
     },
     "execution_count": 7,
     "metadata": {},
     "output_type": "execute_result"
    }
   ],
   "source": [
    "# Кол-во карт одной масти = 52/4 = 13\n",
    "\n",
    "# Вероятность, что первая из 4-к карт - крести:\n",
    "P1 = 1/4\n",
    "# Вероятность, что вторая крести:\n",
    "P2 = 12/51\n",
    "# Вероятность, что третья крести:\n",
    "P3 = 11/50\n",
    "# Вероятность, что четвертая крести:\n",
    "P4 = 10/49\n",
    "\n",
    "P1, P2, P3, P4"
   ]
  },
  {
   "cell_type": "markdown",
   "metadata": {},
   "source": [
    "#### Ответ:"
   ]
  },
  {
   "cell_type": "code",
   "execution_count": 8,
   "metadata": {},
   "outputs": [
    {
     "data": {
      "text/plain": [
       "0.0026410564225690276"
      ]
     },
     "execution_count": 8,
     "metadata": {},
     "output_type": "execute_result"
    }
   ],
   "source": [
    "# Вероятность, что все крести (одновременное наступление события):\n",
    "P = P1 * P2 * P3 * P4\n",
    "P"
   ]
  },
  {
   "cell_type": "markdown",
   "metadata": {},
   "source": [
    "б)"
   ]
  },
  {
   "cell_type": "code",
   "execution_count": 24,
   "metadata": {},
   "outputs": [
    {
     "name": "stdout",
     "output_type": "stream",
     "text": [
      "Для 1 туза: 4.0 17296.0 69184.0\n",
      "Для 2 тузов: 6.0 1128.0 6768.0\n",
      "Для 3 тузов: 4.0 48.0 192.0\n",
      "Вероятность:  0.2812632745405855\n"
     ]
    }
   ],
   "source": [
    "# Формула для сочетаний:  factorial() / ( factorial() * factorial() )\n",
    "\n",
    "# Считаем общее кол-во сочетаний по 4 из 52, что будет общим кол-вом различных исходов:\n",
    "N_общ = factorial(52) / ( factorial(4) * factorial(52 - 4) )\n",
    "\n",
    "# Считаем кол-во благоприятствующих вариантов (в данном сучае - сочетаний):\n",
    "# Хотя бы один туз в комбинации из 4-х карт - это все сочетания, в которых присутствует 1 или 2 или 3 или 4 туза, \n",
    "# рассмотрим их отдельно:\n",
    "\n",
    "# 1 туз, 3 не туза:\n",
    "# Тузы:\n",
    "N_1_t = factorial(4) / ( factorial(1) * factorial(4-1) )\n",
    "N_1_t\n",
    "# Не тузы:\n",
    "N_1_nt = factorial(48) / ( factorial(3) * factorial(48-3) )\n",
    "N_1_nt\n",
    "N_1 = N_1_t * N_1_nt\n",
    "print('Для 1 туза:', N_1_t, N_1_nt, N_1)\n",
    "\n",
    "# 2 туза, 2 не туза:\n",
    "# Тузы:\n",
    "N_2_t = factorial(4) / ( factorial(2) * factorial(4-2) )\n",
    "N_2_t\n",
    "# Не тузы:\n",
    "N_2_nt = factorial(48) / ( factorial(2) * factorial(48-2) )\n",
    "N_2_nt\n",
    "N_2 = N_2_t * N_2_nt\n",
    "print('Для 2 тузов:', N_2_t, N_2_nt, N_2)\n",
    "\n",
    "# 3 туза, 1 не туз:\n",
    "# Тузы:\n",
    "N_3_t = factorial(4) / ( factorial(3) * factorial(4-3) )\n",
    "N_3_t\n",
    "# Не тузы:\n",
    "N_3_nt = factorial(48) / ( factorial(1) * factorial(48-1) )\n",
    "N_3_nt\n",
    "N_3 = N_3_t * N_3_nt\n",
    "print('Для 3 тузов:', N_3_t, N_3_nt, N_3)\n",
    "\n",
    "# 4 туза - 1 сочетание.\n",
    "N_4 = 1\n",
    "\n",
    "P = (N_1 + N_2 + N_3 + N_4) / N_общ\n",
    "print('Вероятность: ', P)"
   ]
  },
  {
   "cell_type": "markdown",
   "metadata": {},
   "source": [
    "#### Ответ:"
   ]
  },
  {
   "cell_type": "code",
   "execution_count": 25,
   "metadata": {},
   "outputs": [
    {
     "data": {
      "text/plain": [
       "0.2812632745405855"
      ]
     },
     "execution_count": 25,
     "metadata": {},
     "output_type": "execute_result"
    }
   ],
   "source": [
    "P"
   ]
  },
  {
   "cell_type": "markdown",
   "metadata": {},
   "source": [
    "### Task_2:"
   ]
  },
  {
   "cell_type": "markdown",
   "metadata": {},
   "source": [
    "На входной двери подъезда установлен кодовый замок, содержащий десять кнопок с цифрами от 0 до 9. Код содержит три цифры, которые нужно нажать одновременно. Какова вероятность того, что человек, не знающий код, откроет дверь с первой попытки?"
   ]
  },
  {
   "cell_type": "code",
   "execution_count": 16,
   "metadata": {},
   "outputs": [
    {
     "data": {
      "text/plain": [
       "('Вероястность:', 0.008333333333333333)"
      ]
     },
     "execution_count": 16,
     "metadata": {},
     "output_type": "execute_result"
    }
   ],
   "source": [
    "# Нажатие одновременное - следовательно понятие \"порядок\" в пределах комбинации не действительно. \n",
    "# По факту комбинация - выборка из множества, соответственно общее кол-во комбинаций описывается через сочетания.\n",
    "\n",
    "# Кол-во комбинаций (сочетаний):\n",
    "N = factorial(10) / ( factorial(3) * factorial(10-3) )\n",
    "P = 1/N\n",
    "'Вероястность:', P"
   ]
  },
  {
   "cell_type": "markdown",
   "metadata": {},
   "source": [
    "### Task_3:"
   ]
  },
  {
   "cell_type": "markdown",
   "metadata": {},
   "source": [
    "В ящике имеется 15 деталей, из которых 9 окрашены. Рабочий случайным образом извлекает 3 детали. Какова вероятность того, что все извлеченные детали окрашены?"
   ]
  },
  {
   "cell_type": "code",
   "execution_count": 19,
   "metadata": {},
   "outputs": [
    {
     "data": {
      "text/plain": [
       "('Вероятность', 0.18461538461538463)"
      ]
     },
     "execution_count": 19,
     "metadata": {},
     "output_type": "execute_result"
    }
   ],
   "source": [
    "# Порядок не важен, в данном случае работаем с сочетаниями. Общее кол-во сочетаний: сочетания по 3 из 15,\n",
    "# Благоприятствующие сочетания - сочетания по 3 из 9 нужного цвета.\n",
    "\n",
    "# Благоприятствующие сочетания (кол-во):\n",
    "N_благопр = factorial(9) / ( factorial(3) * factorial(9-3) )\n",
    "\n",
    "# Общее кол-во сочетаний:\n",
    "N_общ = factorial(15) / ( factorial(3) * factorial(15-3) )\n",
    "\n",
    "P = N_благопр / N_общ\n",
    "'Вероятность', P"
   ]
  },
  {
   "cell_type": "markdown",
   "metadata": {},
   "source": [
    "### Task_4"
   ]
  },
  {
   "cell_type": "markdown",
   "metadata": {},
   "source": [
    "В лотерее 100 билетов. Из них 2 выигрышных. Какова вероятность того, что 2 приобретенных билета окажутся выигрышными?"
   ]
  },
  {
   "cell_type": "code",
   "execution_count": 22,
   "metadata": {},
   "outputs": [
    {
     "data": {
      "text/plain": [
       "('Вероятность:', 0.00020202020202020202)"
      ]
     },
     "execution_count": 22,
     "metadata": {},
     "output_type": "execute_result"
    }
   ],
   "source": [
    "# Порядок не важен. Речь о сочетаниях. Если только 2 выигрышных, то только одно сочетание благоприятсвует - эти 2, собственно.\n",
    "# Посчитаем общее кол-во сочетаний:\n",
    "\n",
    "N = factorial(100) / ( factorial(2) * (factorial(100-2)) )\n",
    "\n",
    "# Считаем вероятность:\n",
    "P = 1 / N\n",
    "'Вероятность:', P"
   ]
  }
 ],
 "metadata": {
  "kernelspec": {
   "display_name": "Python 3",
   "language": "python",
   "name": "python3"
  },
  "language_info": {
   "codemirror_mode": {
    "name": "ipython",
    "version": 3
   },
   "file_extension": ".py",
   "mimetype": "text/x-python",
   "name": "python",
   "nbconvert_exporter": "python",
   "pygments_lexer": "ipython3",
   "version": "3.7.3"
  }
 },
 "nbformat": 4,
 "nbformat_minor": 2
}
